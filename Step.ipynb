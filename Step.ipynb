{
 "cells": [
  {
   "cell_type": "markdown",
   "id": "519628c2",
   "metadata": {},
   "source": [
    "<b>Introduction to Flask : </b>\n",
    "\n",
    "This is my attempt to understand the workings of Flask and how I can implement Flask for the back-end of my full-stak projects. \n",
    "\n",
    "In this document are notes and terminal codes outlining the step of installing Flask using pip and to host my HTML code on a server. \n",
    "\n",
    "* Background check : \n",
    "- cd : change directory \n",
    "- mkdir : make directory \n",
    "- pwd : print directory \n",
    "- ls : list \n",
    "- clear : clear directory"
   ]
  },
  {
   "cell_type": "markdown",
   "id": "28ad18b1",
   "metadata": {},
   "source": [
    "<b>Step 1 : Create and activate an evironment for our flask using conda. </b>\n",
    "\n",
    "Code : Create a virtual environment with a specified version of Python \n",
    "\n",
    "\tconda create -n flask_app  python=3.8\n",
    "\n",
    "\tProceed ([y]/n)? y\n",
    "\n",
    "\tconda activate flask_app\n",
    "\n",
    "Benefit : \n",
    "- it's encapsulate all our packages and libraries needed for our projects \n",
    "- avoid compatibility issues between the different versions of the libraries. "
   ]
  },
  {
   "cell_type": "markdown",
   "id": "649734db",
   "metadata": {},
   "source": [
    "<b>Step 2 : Install Flask </b>\n",
    "\n",
    "\tpip install Flask\n",
    "\n"
   ]
  },
  {
   "cell_type": "markdown",
   "id": "fdbf044e",
   "metadata": {},
   "source": [
    "<b>Step 3 : Make a directory to store our HTML code file and start a minimal application</b>\n",
    "\n",
    "\tmkdir test_flask\n",
    "\n",
    "\tcd test_flask\n",
    " \t\n",
    " \twhich pip"
   ]
  },
  {
   "cell_type": "markdown",
   "id": "9081e494",
   "metadata": {},
   "source": [
    "<b>Step 4 : Write our HTML code in vim : </b>\n",
    " \tvi app.py \n",
    "\n",
    " \tHTML code : \n",
    " \tfrom flask import Flask\n",
    "\n",
    "\tapp = Flask(__name__)\n",
    "\n",
    "\t@app.route(\"/\")\n",
    "\tdef hello_world():\n",
    "    \treturn \"<p>Hello, World!</p>\""
   ]
  },
  {
   "cell_type": "markdown",
   "id": "c08baa2c",
   "metadata": {},
   "source": [
    "<b>Step 5 : Host our app online. </b>\n",
    "\n",
    " \tpython -m flask --app app.py run  \n",
    "\n",
    " \tflask -app app run --debug"
   ]
  }
 ],
 "metadata": {
  "kernelspec": {
   "display_name": "Python 3 (ipykernel)",
   "language": "python",
   "name": "python3"
  },
  "language_info": {
   "codemirror_mode": {
    "name": "ipython",
    "version": 3
   },
   "file_extension": ".py",
   "mimetype": "text/x-python",
   "name": "python",
   "nbconvert_exporter": "python",
   "pygments_lexer": "ipython3",
   "version": "3.9.7"
  }
 },
 "nbformat": 4,
 "nbformat_minor": 5
}
